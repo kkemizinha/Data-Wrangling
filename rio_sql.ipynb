{
 "cells": [
  {
   "cell_type": "markdown",
   "metadata": {},
   "source": [
    "# P3 Data Wrangling\n",
    "Jessica Matsuoka"
   ]
  },
  {
   "cell_type": "markdown",
   "metadata": {},
   "source": [
    "I chose Rio de Janeiro - Brazil [[1]](https://mapzen.com/data/metro-extracts/metro/rio-de-janeiro_brazil/), famous for its plentiful beaches and extravagant carnival. This city is easy to fall in love, with backdrop  of samba and funk rhythms. Some of the famous atrractions include Christ of Redeemer, Sugarloaf Mountain and Corcovado [[2]](https://en.wikipedia.org/wiki/Rio_de_Janeiro).\n"
   ]
  },
  {
   "cell_type": "markdown",
   "metadata": {},
   "source": [
    "## **1. Data Overview**\n",
    "\n",
    "The OSM XML file details:\n",
    "\n",
    "\n",
    "    name: rio-de-janeiro_brazil.osm\n",
    "    size: 369.7MB\n",
    "    \n",
    "A sample was generated to fasten the process of auditing. The sample OSM XML file details:\n",
    "\n",
    "    name: rio-de-janeiro_brazil_sample.osm\n",
    "    size: 74.4MB\n",
    "    \n",
    "This was done by running the script create_sample_osm.py, which you can find in the submitted folder."
   ]
  },
  {
   "cell_type": "markdown",
   "metadata": {},
   "source": [
    "Now, let's count the number of tags in the original file (OSMFILE). Running this script, we have:\n",
    "\n",
    "    'node': 1,686,746 \n",
    "    'nd': 2,105,068 \n",
    "    'bounds': 1 \n",
    "    'member': 27,152\n",
    "    'tag': 657,508\n",
    "    'osm': 1\n",
    "    'way': 205,523 \n",
    "    'relation': 4,257"
   ]
  },
  {
   "cell_type": "code",
   "execution_count": 43,
   "metadata": {
    "collapsed": false
   },
   "outputs": [
    {
     "name": "stdout",
     "output_type": "stream",
     "text": [
      "defaultdict(<type 'int'>, {'node': 1686746, 'nd': 2105068, 'bounds': 1, 'member': 27152, 'tag': 657508, 'osm': 1, 'way': 205523, 'relation': 4257})\n"
     ]
    }
   ],
   "source": [
    "OSMFILE = 'rio-de-janeiro_brazil.osm'\n",
    "def count_tags(filename):\n",
    "    tags = defaultdict(int)\n",
    "    tree = ET.parse(filename)\n",
    "    root = tree.getroot()\n",
    "    for element in root.iter():\n",
    "        tags[element.tag] += 1\n",
    "    return tags\n",
    "\n",
    "all_tags = count_tags(OSMFILE)\n",
    "print all_tags"
   ]
  },
  {
   "cell_type": "raw",
   "metadata": {},
   "source": [
    "After reducing the original map to a sample, we have:\n",
    "\n",
    "    'node': 168,675\n",
    "    'tag': 64,213\n",
    "    'nd': 214,891\n",
    "    'way': 205,552 \n",
    "    'response': 1\n"
   ]
  },
  {
   "cell_type": "code",
   "execution_count": 44,
   "metadata": {
    "collapsed": false
   },
   "outputs": [
    {
     "name": "stdout",
     "output_type": "stream",
     "text": [
      "defaultdict(<type 'int'>, {'node': 168675, 'tag': 64213, 'nd': 214891, 'response': 1, 'way': 20552})\n"
     ]
    }
   ],
   "source": [
    "SAMPLE_FILE = 'rio-de-janeiro_brazil_sample.osm'\n",
    "sample_tags = count_tags(SAMPLE_FILE)\n",
    "print sample_tags"
   ]
  },
  {
   "cell_type": "raw",
   "metadata": {},
   "source": [
    "We want now to count how many users we have contributing this map.\n",
    "The script shows that 1661 nice users contributed to this map. "
   ]
  },
  {
   "cell_type": "code",
   "execution_count": 45,
   "metadata": {
    "collapsed": false
   },
   "outputs": [
    {
     "data": {
      "text/plain": [
       "1661"
      ]
     },
     "execution_count": 45,
     "metadata": {},
     "output_type": "execute_result"
    }
   ],
   "source": [
    "def get_user(element):\n",
    "    return element.get('uid')\n",
    "\n",
    "def count_users(filename):\n",
    "    users = set()\n",
    "    for _, element in ET.iterparse(filename):\n",
    "        user = get_user(element)\n",
    "        if user is not None:\n",
    "            users.add(user)\n",
    "\n",
    "    return len(users)\n",
    "\n",
    "count_users(OSMFILE)"
   ]
  },
  {
   "cell_type": "markdown",
   "metadata": {},
   "source": [
    "# #**2. Auditing the Data**\n",
    "\n",
    "We've checked that 1661 users contributed to this map. We know that people sometimes make mistakes, and some entries might have errors. The script executed was \"audit_rio.py\". We will check for:\n",
    "\n",
    "    - Lower case letters\n",
    "    - Lower case letters with colon \":\"\n",
    "    - Any tag key with problematic/special characters\n",
    "    - Other\n",
    "    \n",
    "Most of the cases,  \n",
    "    \n",
    " **- Special Characters**\n",
    "     Some streets, and cities have special characters such as acute accents ('), circumflexes (^), and cedilla (ç). In the header of the script, it was added the # -- coding: utf-8 -- to allow the manipulation of utf-8 Unicode encoding. Even doing this inclusion, it was necessary to add the letter 'u' before strings that were used for comparison. Some examples:\n",
    "\n",
    "        - Niterói -> u'Niterói'\n",
    "        - Praca -> u'Praça'\n",
    " \n",
    " **- Street Names**\n",
    "     Some of the streets were abbreviated. Examples:\n",
    "     \n",
    "        - Rod. Washigton Luiz -> Rodovia Washington Luiz\n",
    "        - Av das Américas -> Avenida das Américas\n",
    "        \n",
    "     Some streets didn't have any specification. Those names needed further research on Google Maps to get the correct value. Some examples:\n",
    "     \n",
    "        - alcides bezerra -> Rua Alcides Bezerra\n",
    "        - Largo do Machado -> Praça Largo do Machado\n",
    "\n",
    " **- City Name:**\n",
    "    The map of the region of Rio de Janeiro also have information about the metropolitan region, for this reason the key addr: city received a treatment to standardize the names. The cities list were based on Wikipedia [[3]](https://pt.wikipedia.org/wiki/Regi%C3%A3o_Metropolitana_do_Rio_de_Janeiro). There were spelling mistakes, special characters, street names instead of city, and lower case letters:\n",
    "     \n",
    "       - rio de janeiro  ->  Rio de Janeiro\n",
    "       - Rio de Janeiro, ->  Rio de Janeiro \n",
    "       - Teresópoli -> Teresópolis\n",
    "       - Rua Monsenhor Magaldi  -> Rio de Janeiro\n",
    "       \n",
    "     In this last case, I used Google Maps to know which city was \"Rua Monsenhor Magaldi\", and found that was in Rio de Janeiro city."
   ]
  },
  {
   "cell_type": "markdown",
   "metadata": {},
   "source": [
    "# 3. Cleaning the Data"
   ]
  },
  {
   "cell_type": "raw",
   "metadata": {},
   "source": [
    "The script was executed (process_rio.py), following Udacity guidelines. The data was cleaned based on the audit above.\n",
    "\n",
    "Some of additional observations is that when I starting auditing the data, some name of some streets in the sample and the logic of the program was not followed in some cases.\n",
    "\n",
    "The script created 5 .csv files as output:\n",
    "\n",
    "    nodes.csv        : 14.5 MB\n",
    "    nodes_tags.csv   : 0.719 MB\n",
    "    ways.csv         : 1.3 MB\n",
    "    ways_nodes.csv   : 5.2 MB\n",
    "    ways_tags.csv    : 1.7 MB\n",
    "\n",
    "    "
   ]
  },
  {
   "cell_type": "markdown",
   "metadata": {},
   "source": [
    "# 4. Data Insights and Exploration\n",
    "\n",
    "\n",
    "After auditing the data, we will create the SQLite database. The data was dumped into 'rio.db'. We are ready to explore Rio. The script executed was create_database.py.\n",
    "We begin importing the database:"
   ]
  },
  {
   "cell_type": "code",
   "execution_count": 17,
   "metadata": {
    "collapsed": true
   },
   "outputs": [],
   "source": [
    "# Opening a connection with the database\n",
    "\n",
    "import sqlite3\n",
    "\n",
    "db = sqlite3.connect(\"rio.db\")\n",
    "c = db.cursor() \n"
   ]
  },
  {
   "cell_type": "raw",
   "metadata": {},
   "source": [
    "Some of the data statistics:\n",
    "    - Number of nodes: 168675\n",
    "    - Number of ways: 20552"
   ]
  },
  {
   "cell_type": "code",
   "execution_count": 18,
   "metadata": {
    "collapsed": false
   },
   "outputs": [
    {
     "name": "stdout",
     "output_type": "stream",
     "text": [
      "Number of nodes:  168675\n"
     ]
    }
   ],
   "source": [
    "# Number of nodes  \n",
    "query = '''SELECT COUNT(*) FROM nodes ;'''\n",
    "c.execute(query)\n",
    "\n",
    "print \"Number of nodes: \", c.fetchall()[0][0]"
   ]
  },
  {
   "cell_type": "code",
   "execution_count": 19,
   "metadata": {
    "collapsed": false
   },
   "outputs": [
    {
     "name": "stdout",
     "output_type": "stream",
     "text": [
      "Number of ways:  20552\n"
     ]
    }
   ],
   "source": [
    "# Number of ways\n",
    "query = '''SELECT COUNT(*) FROM ways;'''\n",
    "c.execute(query)\n",
    "\n",
    "print \"Number of ways: \", c.fetchall()[0][0]"
   ]
  },
  {
   "cell_type": "markdown",
   "metadata": {},
   "source": [
    "And now, we will check the number of contributors:"
   ]
  },
  {
   "cell_type": "code",
   "execution_count": 20,
   "metadata": {
    "collapsed": false
   },
   "outputs": [
    {
     "name": "stdout",
     "output_type": "stream",
     "text": [
      "Number of Unique users:  950\n"
     ]
    }
   ],
   "source": [
    "#Number of unique users\n",
    "query = '''SELECT COUNT(DISTINCT(e.uid)) \n",
    "           FROM (SELECT uid FROM nodes UNION ALL SELECT uid FROM ways) e;'''\n",
    "c.execute(query)\n",
    "\n",
    "print \"Number of Unique users: \", c.fetchall()[0][0]"
   ]
  },
  {
   "cell_type": "code",
   "execution_count": 21,
   "metadata": {
    "collapsed": true
   },
   "outputs": [],
   "source": [
    "from IPython.display import display\n",
    "import pandas as pd\n",
    "\n",
    "def show_details(query_input, rows, desc):\n",
    "    df = pd.read_sql_query(query_input, db)\n",
    "    print desc\n",
    "    display(df.head(rows))"
   ]
  },
  {
   "cell_type": "raw",
   "metadata": {},
   "source": [
    "The script above was to explore the data using the Pandas library.\n",
    "\n",
    "We want to know who are the top 10 users:"
   ]
  },
  {
   "cell_type": "code",
   "execution_count": 22,
   "metadata": {
    "collapsed": false
   },
   "outputs": [
    {
     "name": "stdout",
     "output_type": "stream",
     "text": [
      "Top 10 contributing users and number of contributions\n"
     ]
    },
    {
     "data": {
      "text/html": [
       "<div>\n",
       "<style>\n",
       "    .dataframe thead tr:only-child th {\n",
       "        text-align: right;\n",
       "    }\n",
       "\n",
       "    .dataframe thead th {\n",
       "        text-align: left;\n",
       "    }\n",
       "\n",
       "    .dataframe tbody tr th {\n",
       "        vertical-align: top;\n",
       "    }\n",
       "</style>\n",
       "<table border=\"1\" class=\"dataframe\">\n",
       "  <thead>\n",
       "    <tr style=\"text-align: right;\">\n",
       "      <th></th>\n",
       "      <th>user</th>\n",
       "      <th>num</th>\n",
       "    </tr>\n",
       "  </thead>\n",
       "  <tbody>\n",
       "    <tr>\n",
       "      <th>0</th>\n",
       "      <td>Alexandrecw</td>\n",
       "      <td>37112</td>\n",
       "    </tr>\n",
       "    <tr>\n",
       "      <th>1</th>\n",
       "      <td>smaprs_import</td>\n",
       "      <td>18396</td>\n",
       "    </tr>\n",
       "    <tr>\n",
       "      <th>2</th>\n",
       "      <td>ThiagoPv</td>\n",
       "      <td>17989</td>\n",
       "    </tr>\n",
       "    <tr>\n",
       "      <th>3</th>\n",
       "      <td>AlNo</td>\n",
       "      <td>15353</td>\n",
       "    </tr>\n",
       "    <tr>\n",
       "      <th>4</th>\n",
       "      <td>Import Rio</td>\n",
       "      <td>8503</td>\n",
       "    </tr>\n",
       "    <tr>\n",
       "      <th>5</th>\n",
       "      <td>Geaquinto</td>\n",
       "      <td>6803</td>\n",
       "    </tr>\n",
       "    <tr>\n",
       "      <th>6</th>\n",
       "      <td>Nighto</td>\n",
       "      <td>6642</td>\n",
       "    </tr>\n",
       "    <tr>\n",
       "      <th>7</th>\n",
       "      <td>Ricardo Mitidieri</td>\n",
       "      <td>5962</td>\n",
       "    </tr>\n",
       "    <tr>\n",
       "      <th>8</th>\n",
       "      <td>Thundercel</td>\n",
       "      <td>5466</td>\n",
       "    </tr>\n",
       "    <tr>\n",
       "      <th>9</th>\n",
       "      <td>patodiez</td>\n",
       "      <td>5272</td>\n",
       "    </tr>\n",
       "  </tbody>\n",
       "</table>\n",
       "</div>"
      ],
      "text/plain": [
       "                user    num\n",
       "0        Alexandrecw  37112\n",
       "1      smaprs_import  18396\n",
       "2           ThiagoPv  17989\n",
       "3               AlNo  15353\n",
       "4         Import Rio   8503\n",
       "5          Geaquinto   6803\n",
       "6             Nighto   6642\n",
       "7  Ricardo Mitidieri   5962\n",
       "8         Thundercel   5466\n",
       "9           patodiez   5272"
      ]
     },
     "metadata": {},
     "output_type": "display_data"
    }
   ],
   "source": [
    "# Top 10 contributing users and number of contributions\n",
    "query = '''SELECT e.user, COUNT(*) as num\n",
    "           FROM (SELECT user FROM nodes UNION ALL SELECT user from ways) e\n",
    "           GROUP BY e.user\n",
    "           ORDER BY num DESC\n",
    "           LIMIT 10;'''\n",
    "show_details(query, 10, 'Top 10 contributing users and number of contributions')"
   ]
  },
  {
   "cell_type": "markdown",
   "metadata": {},
   "source": [
    "And what about the languages used in Rio?\n",
    "The top languages found in the database are pt (portuguese), en (english), es (spanish), ru (russian), bpv (indonesian)"
   ]
  },
  {
   "cell_type": "code",
   "execution_count": 23,
   "metadata": {
    "collapsed": false
   },
   "outputs": [
    {
     "name": "stdout",
     "output_type": "stream",
     "text": [
      "Top 5 languages used\n"
     ]
    },
    {
     "data": {
      "text/html": [
       "<div>\n",
       "<style>\n",
       "    .dataframe thead tr:only-child th {\n",
       "        text-align: right;\n",
       "    }\n",
       "\n",
       "    .dataframe thead th {\n",
       "        text-align: left;\n",
       "    }\n",
       "\n",
       "    .dataframe tbody tr th {\n",
       "        vertical-align: top;\n",
       "    }\n",
       "</style>\n",
       "<table border=\"1\" class=\"dataframe\">\n",
       "  <thead>\n",
       "    <tr style=\"text-align: right;\">\n",
       "      <th></th>\n",
       "      <th>key</th>\n",
       "      <th>COUNT(*)</th>\n",
       "    </tr>\n",
       "  </thead>\n",
       "  <tbody>\n",
       "    <tr>\n",
       "      <th>0</th>\n",
       "      <td>pt</td>\n",
       "      <td>46</td>\n",
       "    </tr>\n",
       "    <tr>\n",
       "      <th>1</th>\n",
       "      <td>en</td>\n",
       "      <td>36</td>\n",
       "    </tr>\n",
       "    <tr>\n",
       "      <th>2</th>\n",
       "      <td>es</td>\n",
       "      <td>6</td>\n",
       "    </tr>\n",
       "    <tr>\n",
       "      <th>3</th>\n",
       "      <td>ru</td>\n",
       "      <td>4</td>\n",
       "    </tr>\n",
       "    <tr>\n",
       "      <th>4</th>\n",
       "      <td>bpv</td>\n",
       "      <td>2</td>\n",
       "    </tr>\n",
       "  </tbody>\n",
       "</table>\n",
       "</div>"
      ],
      "text/plain": [
       "   key  COUNT(*)\n",
       "0   pt        46\n",
       "1   en        36\n",
       "2   es         6\n",
       "3   ru         4\n",
       "4  bpv         2"
      ]
     },
     "metadata": {},
     "output_type": "display_data"
    }
   ],
   "source": [
    "#Languages used in Rio\n",
    "query = '''\n",
    "    SELECT \n",
    "        key, \n",
    "        COUNT(*) \n",
    "    FROM nodes_tags \n",
    "    WHERE type = 'name'\n",
    "    GROUP BY 1 \n",
    "    ORDER BY COUNT(*) DESC \n",
    "    LIMIT 5;'''\n",
    "c.execute(query)\n",
    "\n",
    "show_details(query, 5, 'Top 5 languages used')"
   ]
  },
  {
   "cell_type": "raw",
   "metadata": {},
   "source": [
    "And the top 10 shop types:"
   ]
  },
  {
   "cell_type": "code",
   "execution_count": 24,
   "metadata": {
    "collapsed": false
   },
   "outputs": [
    {
     "name": "stdout",
     "output_type": "stream",
     "text": [
      "Top 10 common shop types\n"
     ]
    },
    {
     "data": {
      "text/html": [
       "<div>\n",
       "<style>\n",
       "    .dataframe thead tr:only-child th {\n",
       "        text-align: right;\n",
       "    }\n",
       "\n",
       "    .dataframe thead th {\n",
       "        text-align: left;\n",
       "    }\n",
       "\n",
       "    .dataframe tbody tr th {\n",
       "        vertical-align: top;\n",
       "    }\n",
       "</style>\n",
       "<table border=\"1\" class=\"dataframe\">\n",
       "  <thead>\n",
       "    <tr style=\"text-align: right;\">\n",
       "      <th></th>\n",
       "      <th>value</th>\n",
       "      <th>COUNT(*)</th>\n",
       "    </tr>\n",
       "  </thead>\n",
       "  <tbody>\n",
       "    <tr>\n",
       "      <th>0</th>\n",
       "      <td>clothes</td>\n",
       "      <td>30</td>\n",
       "    </tr>\n",
       "    <tr>\n",
       "      <th>1</th>\n",
       "      <td>supermarket</td>\n",
       "      <td>27</td>\n",
       "    </tr>\n",
       "    <tr>\n",
       "      <th>2</th>\n",
       "      <td>hairdresser</td>\n",
       "      <td>24</td>\n",
       "    </tr>\n",
       "    <tr>\n",
       "      <th>3</th>\n",
       "      <td>car_repair</td>\n",
       "      <td>22</td>\n",
       "    </tr>\n",
       "    <tr>\n",
       "      <th>4</th>\n",
       "      <td>bakery</td>\n",
       "      <td>17</td>\n",
       "    </tr>\n",
       "    <tr>\n",
       "      <th>5</th>\n",
       "      <td>car</td>\n",
       "      <td>16</td>\n",
       "    </tr>\n",
       "    <tr>\n",
       "      <th>6</th>\n",
       "      <td>convenience</td>\n",
       "      <td>16</td>\n",
       "    </tr>\n",
       "    <tr>\n",
       "      <th>7</th>\n",
       "      <td>hardware</td>\n",
       "      <td>13</td>\n",
       "    </tr>\n",
       "    <tr>\n",
       "      <th>8</th>\n",
       "      <td>bicycle</td>\n",
       "      <td>11</td>\n",
       "    </tr>\n",
       "    <tr>\n",
       "      <th>9</th>\n",
       "      <td>furniture</td>\n",
       "      <td>10</td>\n",
       "    </tr>\n",
       "  </tbody>\n",
       "</table>\n",
       "</div>"
      ],
      "text/plain": [
       "         value  COUNT(*)\n",
       "0      clothes        30\n",
       "1  supermarket        27\n",
       "2  hairdresser        24\n",
       "3   car_repair        22\n",
       "4       bakery        17\n",
       "5          car        16\n",
       "6  convenience        16\n",
       "7     hardware        13\n",
       "8      bicycle        11\n",
       "9    furniture        10"
      ]
     },
     "metadata": {},
     "output_type": "display_data"
    }
   ],
   "source": [
    "# Shop types\n",
    "query = '''\n",
    "    SELECT \n",
    "        value, \n",
    "        COUNT(*) \n",
    "    FROM nodes_tags \n",
    "    WHERE key = 'shop'\n",
    "    GROUP BY 1 \n",
    "    ORDER BY COUNT(*) DESC \n",
    "    LIMIT 10\n",
    "    ;'''\n",
    "\n",
    "show_details(query, 10, 'Top 10 common shop types')"
   ]
  },
  {
   "cell_type": "markdown",
   "metadata": {},
   "source": [
    "You might be hungry at this time. Let's find out about restaurants in Rio."
   ]
  },
  {
   "cell_type": "code",
   "execution_count": 25,
   "metadata": {
    "collapsed": false
   },
   "outputs": [
    {
     "name": "stdout",
     "output_type": "stream",
     "text": [
      "Number of restaurants:  129\n"
     ]
    }
   ],
   "source": [
    "# Shop types\n",
    "query = '''\n",
    "    SELECT \n",
    "        COUNT(*) \n",
    "    FROM nodes_tags \n",
    "    WHERE key = 'amenity'\n",
    "          and\n",
    "          value = 'restaurant'\n",
    "    ;'''\n",
    "\n",
    "c.execute(query)\n",
    "\n",
    "print \"Number of restaurants: \", c.fetchall()[0][0]"
   ]
  },
  {
   "cell_type": "code",
   "execution_count": 26,
   "metadata": {
    "collapsed": false
   },
   "outputs": [
    {
     "name": "stdout",
     "output_type": "stream",
     "text": [
      "Top 10 common Restaurant types\n"
     ]
    },
    {
     "data": {
      "text/html": [
       "<div>\n",
       "<style>\n",
       "    .dataframe thead tr:only-child th {\n",
       "        text-align: right;\n",
       "    }\n",
       "\n",
       "    .dataframe thead th {\n",
       "        text-align: left;\n",
       "    }\n",
       "\n",
       "    .dataframe tbody tr th {\n",
       "        vertical-align: top;\n",
       "    }\n",
       "</style>\n",
       "<table border=\"1\" class=\"dataframe\">\n",
       "  <thead>\n",
       "    <tr style=\"text-align: right;\">\n",
       "      <th></th>\n",
       "      <th>value</th>\n",
       "      <th>num</th>\n",
       "    </tr>\n",
       "  </thead>\n",
       "  <tbody>\n",
       "    <tr>\n",
       "      <th>0</th>\n",
       "      <td>regional</td>\n",
       "      <td>9</td>\n",
       "    </tr>\n",
       "    <tr>\n",
       "      <th>1</th>\n",
       "      <td>pizza</td>\n",
       "      <td>8</td>\n",
       "    </tr>\n",
       "    <tr>\n",
       "      <th>2</th>\n",
       "      <td>japanese</td>\n",
       "      <td>4</td>\n",
       "    </tr>\n",
       "    <tr>\n",
       "      <th>3</th>\n",
       "      <td>steak_house</td>\n",
       "      <td>4</td>\n",
       "    </tr>\n",
       "    <tr>\n",
       "      <th>4</th>\n",
       "      <td>italian</td>\n",
       "      <td>3</td>\n",
       "    </tr>\n",
       "    <tr>\n",
       "      <th>5</th>\n",
       "      <td>seafood</td>\n",
       "      <td>3</td>\n",
       "    </tr>\n",
       "    <tr>\n",
       "      <th>6</th>\n",
       "      <td>vegetarian</td>\n",
       "      <td>2</td>\n",
       "    </tr>\n",
       "    <tr>\n",
       "      <th>7</th>\n",
       "      <td>Self-service</td>\n",
       "      <td>1</td>\n",
       "    </tr>\n",
       "    <tr>\n",
       "      <th>8</th>\n",
       "      <td>barbecue</td>\n",
       "      <td>1</td>\n",
       "    </tr>\n",
       "    <tr>\n",
       "      <th>9</th>\n",
       "      <td>brazilian</td>\n",
       "      <td>1</td>\n",
       "    </tr>\n",
       "  </tbody>\n",
       "</table>\n",
       "</div>"
      ],
      "text/plain": [
       "          value  num\n",
       "0      regional    9\n",
       "1         pizza    8\n",
       "2      japanese    4\n",
       "3   steak_house    4\n",
       "4       italian    3\n",
       "5       seafood    3\n",
       "6    vegetarian    2\n",
       "7  Self-service    1\n",
       "8      barbecue    1\n",
       "9     brazilian    1"
      ]
     },
     "metadata": {},
     "output_type": "display_data"
    }
   ],
   "source": [
    "# Restaurant types\n",
    "query = '''\n",
    "    SELECT \n",
    "        value, \n",
    "        COUNT(*)  as num\n",
    "    FROM nodes_tags \n",
    "    WHERE key = 'cuisine'\n",
    "    AND id IN\n",
    "        (SELECT \n",
    "            id \n",
    "        FROM nodes_tags\n",
    "        WHERE key = 'amenity' \n",
    "        AND value = 'restaurant')\n",
    "    GROUP BY value\n",
    "    ORDER BY num DESC \n",
    "    LIMIT 10\n",
    "    ;'''\n",
    "\n",
    "show_details(query, 10, 'Top 10 common Restaurant types')"
   ]
  },
  {
   "cell_type": "markdown",
   "metadata": {},
   "source": [
    "# 6. Data Improvement\n",
    "\n",
    "Checking the Android App Store, I could find \"OSM Contributor Mapping Tool\" [[6]](http://wiki.openstreetmap.org/wiki/OSM_Contributor_Mapping_Tool). It would be interesting if this app would stimulate the registration of information while you were in that place. Another suggestion would be the recognition of contributors such as medals, and points. Hotels could encourage their customers to register information about their establishment and nearby interesting points that a guest could use during their stay, this would strengthen the collaboration in the region.\n",
    "Another way to improve this number automatically is to get public data provided by Correios WebServices [[7]](https://www.correios.com.br/para-sua-empresa/logistica-integrada/correioslog-comercio-eletronico/pdf/CorreiosWebServicePadresTcnicosdeComunicaodoServioefulfillmentv1_1.pdf). Street names, accessibility information, tourist attractions, community centers, and other public spaces could be added to the dataset. One difficulty would be dealing with street names or abbreviation inconsistencies between Correios and OSM data. However, this could be overcome with string handling scripts and a human auditing the inputted data."
   ]
  },
  {
   "cell_type": "markdown",
   "metadata": {},
   "source": [
    "# 7. Conclusion\n",
    "\n",
    "A significant part of Rio de Janeiro is not well formatted as we saw in the auditing phase. The absence of contributions of some streets makes this project with no statistical value and does not represent the real Rio de Janeiro.\n",
    "Despite this obstacle, the map met the objective of the analysis and created the opportunity for a good learning of data wrangling using python and SQL.\n",
    "                                "
   ]
  },
  {
   "cell_type": "markdown",
   "metadata": {},
   "source": [
    "## References:\n",
    "\n",
    " - [1] (https://mapzen.com/data/metro-extracts/metro/rio-de-janeiro_brazil/)\n",
    " - [2] (https://en.wikipedia.org/wiki/Rio_de_Janeiro)\n",
    " - [3] (https://pt.wikipedia.org/wiki/Regi%C3%A3o_Metropolitana_do_Rio_de_Janeiro)\n",
    " - [4] (https://stackoverflow.com/questions/21808657/what-is-a-unicode-string)\n",
    " - [5] (https://stackoverflow.com/questions/25692293/inserting-a-link-to-a-webpage-in-an-ipython-notebook)\n",
    " - [6] (http://wiki.openstreetmap.org/wiki/OSM_Contributor_Mapping_Tool)\n",
    " - [7] (https://www.correios.com.br/para-sua-empresa/logistica-integrada/correioslog-comercio-eletronico/pdf/CorreiosWebServicePadresTcnicosdeComunicaodoServioefulfillmentv1_1.pdf)"
   ]
  }
 ],
 "metadata": {
  "anaconda-cloud": {},
  "kernelspec": {
   "display_name": "Python [default]",
   "language": "python",
   "name": "python2"
  },
  "language_info": {
   "codemirror_mode": {
    "name": "ipython",
    "version": 2
   },
   "file_extension": ".py",
   "mimetype": "text/x-python",
   "name": "python",
   "nbconvert_exporter": "python",
   "pygments_lexer": "ipython2",
   "version": "2.7.12"
  }
 },
 "nbformat": 4,
 "nbformat_minor": 1
}
